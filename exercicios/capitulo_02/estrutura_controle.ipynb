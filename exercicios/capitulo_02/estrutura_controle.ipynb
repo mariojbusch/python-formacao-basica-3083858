{
 "cells": [
  {
   "cell_type": "code",
   "execution_count": 1,
   "metadata": {},
   "outputs": [],
   "source": [
    "a = 'internet'\n",
    "lista = ['internet', 'rede', 'wifi', 'cabeada']"
   ]
  },
  {
   "cell_type": "code",
   "execution_count": 2,
   "metadata": {},
   "outputs": [
    {
     "name": "stdout",
     "output_type": "stream",
     "text": [
      "Tem internet\n"
     ]
    }
   ],
   "source": [
    "if a in lista:\n",
    "    print('Tem internet')\n",
    "else:\n",
    "    print('Não tem internet')"
   ]
  },
  {
   "cell_type": "code",
   "execution_count": 3,
   "metadata": {},
   "outputs": [
    {
     "name": "stdout",
     "output_type": "stream",
     "text": [
      "internet\n",
      "rede\n",
      "wifi\n",
      "cabeada\n"
     ]
    }
   ],
   "source": [
    "for palavra in lista:\n",
    "    print(palavra)"
   ]
  },
  {
   "cell_type": "code",
   "execution_count": 4,
   "metadata": {},
   "outputs": [],
   "source": [
    "b = 2"
   ]
  },
  {
   "cell_type": "code",
   "execution_count": 5,
   "metadata": {},
   "outputs": [
    {
     "name": "stdout",
     "output_type": "stream",
     "text": [
      "2 O número é menor que 10\n",
      "3 O número é menor que 10\n",
      "4 O número é menor que 10\n",
      "5 O número é menor que 10\n",
      "6 O número é menor que 10\n",
      "7 O número é menor que 10\n",
      "8 O número é menor que 10\n",
      "9 O número é menor que 10\n"
     ]
    }
   ],
   "source": [
    "while b < 10:\n",
    "    print(b, 'O número é menor que 10')\n",
    "    b += 1"
   ]
  }
 ],
 "metadata": {
  "kernelspec": {
   "display_name": ".venv",
   "language": "python",
   "name": "python3"
  },
  "language_info": {
   "codemirror_mode": {
    "name": "ipython",
    "version": 3
   },
   "file_extension": ".py",
   "mimetype": "text/x-python",
   "name": "python",
   "nbconvert_exporter": "python",
   "pygments_lexer": "ipython3",
   "version": "3.12.1"
  }
 },
 "nbformat": 4,
 "nbformat_minor": 2
}
