{
 "cells": [
  {
   "attachments": {},
   "cell_type": "markdown",
   "metadata": {},
   "source": [
    "- Crie uma lista com 30 dados do tipo numérico\n"
   ]
  },
  {
   "cell_type": "code",
   "execution_count": 4,
   "metadata": {},
   "outputs": [],
   "source": [
    "lista = list(range(30))"
   ]
  },
  {
   "attachments": {},
   "cell_type": "markdown",
   "metadata": {},
   "source": [
    "- Dentro de um for loop, crie uma estrutura condicional que imprima na tela o número, caso ele seja maior do que 20. Se o número for 20, imprima 'Esse número é igual a 20.’ e se for maior do que 20, imprima ‘Esse número é maior do que 20.’\n"
   ]
  },
  {
   "cell_type": "code",
   "execution_count": 5,
   "metadata": {},
   "outputs": [
    {
     "name": "stdout",
     "output_type": "stream",
     "text": [
      "0\n",
      "1\n",
      "2\n",
      "3\n",
      "4\n",
      "5\n",
      "6\n",
      "7\n",
      "8\n",
      "9\n",
      "10\n",
      "11\n",
      "12\n",
      "13\n",
      "14\n",
      "15\n",
      "16\n",
      "17\n",
      "18\n",
      "19\n",
      "Esse número é igual a 20.\n",
      "Esse número é maior que 20\n",
      "Esse número é maior que 20\n",
      "Esse número é maior que 20\n",
      "Esse número é maior que 20\n",
      "Esse número é maior que 20\n",
      "Esse número é maior que 20\n",
      "Esse número é maior que 20\n",
      "Esse número é maior que 20\n",
      "Esse número é maior que 20\n"
     ]
    }
   ],
   "source": [
    "for numero in lista:\n",
    "    if numero < 20:\n",
    "        print(numero)\n",
    "    elif numero == 20:\n",
    "        print('Esse número é igual a 20.')\n",
    "    else:\n",
    "        print('Esse número é maior que 20')"
   ]
  },
  {
   "attachments": {},
   "cell_type": "markdown",
   "metadata": {},
   "source": [
    "- Crie as seguintes variáveis contendo listas vazias: ate_12, entre_13_e_20, maior_21"
   ]
  },
  {
   "cell_type": "code",
   "execution_count": 7,
   "metadata": {},
   "outputs": [],
   "source": [
    "idades = range(50)"
   ]
  },
  {
   "cell_type": "code",
   "execution_count": 8,
   "metadata": {},
   "outputs": [],
   "source": [
    "ate_12 = []\n",
    "entre_13_e_20 = []\n",
    "maior_21 = []"
   ]
  },
  {
   "attachments": {},
   "cell_type": "markdown",
   "metadata": {},
   "source": [
    "- Dentro de um for loop, crie uma estrutura condicional que distribua em cada lista os números seguindo as condições abaixo: \n",
    "1. se o número for menor do que 12, armazene-o na lista ate_12\n",
    "2. se o número estiver entre 13 e 20, amazene-o na lista entre_13_e_20\n",
    "3. se o número for maior do 21, armazene-o na lista maior_21\n",
    "\n"
   ]
  },
  {
   "cell_type": "code",
   "execution_count": 9,
   "metadata": {},
   "outputs": [],
   "source": [
    "for idade in idades:\n",
    "    if idade <= 12:\n",
    "        ate_12.append(idade)\n",
    "    elif idade > 12 and idade <=20:\n",
    "        entre_13_e_20.append(idade)\n",
    "    else:\n",
    "        maior_21.append(idade)"
   ]
  }
 ],
 "metadata": {
  "kernelspec": {
   "display_name": "Python 3",
   "language": "python",
   "name": "python3"
  },
  "language_info": {
   "codemirror_mode": {
    "name": "ipython",
    "version": 3
   },
   "file_extension": ".py",
   "mimetype": "text/x-python",
   "name": "python",
   "nbconvert_exporter": "python",
   "pygments_lexer": "ipython3",
   "version": "3.12.1"
  },
  "orig_nbformat": 4,
  "vscode": {
   "interpreter": {
    "hash": "916dbcbb3f70747c44a77c7bcd40155683ae19c65e1c03b4aa3499c5328201f1"
   }
  }
 },
 "nbformat": 4,
 "nbformat_minor": 2
}
