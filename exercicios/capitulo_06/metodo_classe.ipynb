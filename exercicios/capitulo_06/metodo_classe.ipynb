{
 "cells": [
  {
   "attachments": {},
   "cell_type": "markdown",
   "metadata": {},
   "source": [
    "- Crie uma classe e estabeleça variáveis privadas no construtor \n"
   ]
  },
  {
   "cell_type": "code",
   "execution_count": 13,
   "metadata": {},
   "outputs": [],
   "source": [
    "class Gata:\n",
    "    def __init__(self, **kwargs):\n",
    "        self.patas = kwargs['patas']\n",
    "        self.nome = kwargs['nome'] if 'nome' in kwargs else 'Nísia'\n",
    "        self.cor = kwargs['cor']\n",
    "        self.comprimento_pelagem = kwargs['comprimento_pelagem']"
   ]
  },
  {
   "attachments": {},
   "cell_type": "markdown",
   "metadata": {},
   "source": [
    "- Crie um método get, que retorne uma das variáveis privadas\n"
   ]
  },
  {
   "cell_type": "code",
   "execution_count": 18,
   "metadata": {},
   "outputs": [],
   "source": [
    "class Gata:\n",
    "    def __init__(self, **kwargs):\n",
    "        self.patas = kwargs['patas']\n",
    "        self.nome = kwargs['nome'] if 'nome' in kwargs else 'Nísia'\n",
    "        self.cor = kwargs['cor']\n",
    "        self.comprimento_pelagem = kwargs['comprimento_pelagem']\n",
    "\n",
    "    def getCor(self):\n",
    "        return self.cor\n"
   ]
  },
  {
   "attachments": {},
   "cell_type": "markdown",
   "metadata": {},
   "source": [
    "- Crie um método set, que modifique uma das variáveis privadas\n"
   ]
  },
  {
   "cell_type": "code",
   "execution_count": 20,
   "metadata": {},
   "outputs": [],
   "source": [
    "class Gata:\n",
    "    def __init__(self, **kwargs):\n",
    "        self.patas = kwargs['patas']\n",
    "        self.nome = kwargs['nome'] if 'nome' in kwargs else 'Nísia'\n",
    "        self.cor = kwargs['cor']\n",
    "        self.comprimento_pelagem = kwargs['comprimento_pelagem']\n",
    "\n",
    "    def getCor(self):\n",
    "        return self.cor\n",
    "\n",
    "    def setCor(self, nova_cor='cinza'):\n",
    "        if nova_cor:\n",
    "            self.cor = nova_cor\n",
    "        return self.cor"
   ]
  },
  {
   "attachments": {},
   "cell_type": "markdown",
   "metadata": {},
   "source": [
    "- Instancie a classe e imprima na tela a variável antes e depois da modificação\n"
   ]
  },
  {
   "cell_type": "code",
   "execution_count": 21,
   "metadata": {},
   "outputs": [
    {
     "name": "stdout",
     "output_type": "stream",
     "text": [
      "tricolor\n",
      "preto\n"
     ]
    }
   ],
   "source": [
    "babalu = Gata(patas=4, nome='Babalu', cor='tricolor', comprimento_pelagem='curto')\n",
    "print(babalu.cor)  # Imprime 'tricolor'\n",
    "babalu.setCor('preto')\n",
    "print(babalu.cor)  # Imprime 'preto'"
   ]
  }
 ],
 "metadata": {
  "kernelspec": {
   "display_name": "Python 3",
   "language": "python",
   "name": "python3"
  },
  "language_info": {
   "codemirror_mode": {
    "name": "ipython",
    "version": 3
   },
   "file_extension": ".py",
   "mimetype": "text/x-python",
   "name": "python",
   "nbconvert_exporter": "python",
   "pygments_lexer": "ipython3",
   "version": "3.12.1"
  },
  "orig_nbformat": 4,
  "vscode": {
   "interpreter": {
    "hash": "916dbcbb3f70747c44a77c7bcd40155683ae19c65e1c03b4aa3499c5328201f1"
   }
  }
 },
 "nbformat": 4,
 "nbformat_minor": 2
}
